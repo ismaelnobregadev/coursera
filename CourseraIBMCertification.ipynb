{
 "cells": [
  {
   "cell_type": "markdown",
   "metadata": {
    "collapsed": true
   },
   "source": [
    "# My Jupyter Notebook on IBM Watson Studio"
   ]
  },
  {
   "cell_type": "markdown",
   "metadata": {},
   "source": [
    "**Ismael Nóbrega da Silva**"
   ]
  },
  {
   "cell_type": "markdown",
   "metadata": {},
   "source": [
    "*I'm interested in Data Science because I work at a data driven organization* "
   ]
  },
  {
   "cell_type": "code",
   "execution_count": 1,
   "metadata": {},
   "outputs": [],
   "source": [
    "import pandas as pd\n",
    "import numpy as np\n",
    "import matplotlib.pyplot as plt"
   ]
  },
  {
   "cell_type": "markdown",
   "metadata": {},
   "source": [
    "### The following code displays 300 random numbers from 1 to 7 "
   ]
  },
  {
   "cell_type": "code",
   "execution_count": null,
   "metadata": {},
   "outputs": [],
   "source": [
    "import pandas as pd\n",
    "import numpy as np\n",
    "import matplotlib.pyplot as plt"
   ]
  },
  {
   "cell_type": "code",
   "execution_count": 5,
   "metadata": {},
   "outputs": [],
   "source": [
    "dice = np.random.randint(1,7,100)"
   ]
  },
  {
   "cell_type": "code",
   "execution_count": 6,
   "metadata": {},
   "outputs": [
    {
     "data": {
      "text/plain": [
       "array([6, 6, 4, 2, 6, 5, 3, 6, 5, 6, 4, 2, 6, 1, 1, 2, 5, 2, 6, 4, 1, 4,\n",
       "       6, 3, 5, 5, 6, 3, 5, 1, 5, 1, 3, 2, 1, 4, 3, 2, 4, 1, 1, 3, 6, 4,\n",
       "       5, 1, 4, 4, 5, 4, 1, 2, 2, 3, 5, 5, 1, 6, 1, 6, 6, 5, 2, 1, 4, 4,\n",
       "       1, 1, 2, 5, 5, 5, 1, 3, 3, 1, 4, 2, 1, 3, 2, 6, 6, 5, 3, 1, 1, 3,\n",
       "       1, 6, 3, 6, 1, 5, 2, 3, 5, 6, 3, 6])"
      ]
     },
     "execution_count": 6,
     "metadata": {},
     "output_type": "execute_result"
    }
   ],
   "source": [
    "dice"
   ]
  },
  {
   "cell_type": "markdown",
   "metadata": {},
   "source": [
    "| COLUMN 0 | COLUMN 1   |\n",
    "|------|------|\n",
    "|   row 0  | row 0|"
   ]
  },
  {
   "cell_type": "markdown",
   "metadata": {},
   "source": [
    "- Cheese\n",
    "- Carrot\n",
    "- Coconut\n",
    "- Strawberry\n",
    "- Grape\n",
    "- Watermelon"
   ]
  },
  {
   "cell_type": "markdown",
   "metadata": {},
   "source": [
    "https://dataplataform.cloud.ibm.com"
   ]
  },
  {
   "cell_type": "code",
   "execution_count": null,
   "metadata": {},
   "outputs": [],
   "source": []
  }
 ],
 "metadata": {
  "kernelspec": {
   "display_name": "Python 3.9",
   "language": "python",
   "name": "python3"
  },
  "language_info": {
   "codemirror_mode": {
    "name": "ipython",
    "version": 3
   },
   "file_extension": ".py",
   "mimetype": "text/x-python",
   "name": "python",
   "nbconvert_exporter": "python",
   "pygments_lexer": "ipython3",
   "version": "3.9.12"
  }
 },
 "nbformat": 4,
 "nbformat_minor": 1
}
